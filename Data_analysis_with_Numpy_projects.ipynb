{
  "nbformat": 4,
  "nbformat_minor": 0,
  "metadata": {
    "colab": {
      "provenance": [],
      "authorship_tag": "ABX9TyNfXwwnyLqfsjjQzswEy+T2",
      "include_colab_link": true
    },
    "kernelspec": {
      "name": "python3",
      "display_name": "Python 3"
    },
    "language_info": {
      "name": "python"
    }
  },
  "cells": [
    {
      "cell_type": "markdown",
      "metadata": {
        "id": "view-in-github",
        "colab_type": "text"
      },
      "source": [
        "<a href=\"https://colab.research.google.com/github/santhimaddipudi/Azure-Databricks-project-on-Yelp-Dataset/blob/main/Data_analysis_with_Numpy_projects.ipynb\" target=\"_parent\"><img src=\"https://colab.research.google.com/assets/colab-badge.svg\" alt=\"Open In Colab\"/></a>"
      ]
    },
    {
      "cell_type": "markdown",
      "source": [
        "###**Loading images into memory maps**\n",
        "##1. First we need to initialize the following arrays:\n",
        "\n",
        " An array that holds the image data\n",
        "\n",
        " An array with random coordinates of the centers of the squares\n",
        "\n",
        " An array with random radii (plural of radius) of the squares\n",
        "\n",
        " An array with random colors of the squares"
      ],
      "metadata": {
        "id": "TF-BSOjmEahY"
      }
    },
    {
      "cell_type": "code",
      "source": [],
      "metadata": {
        "id": "jSUCneEqHLGE"
      },
      "execution_count": null,
      "outputs": []
    },
    {
      "cell_type": "code",
      "source": [
        "import numpy as np\n",
        "import matplotlib.pyplot as plt\n",
        "N = 512\n",
        "NSQUARES = 30\n",
        "# Initialize\n",
        "img = np.zeros((N, N), np.uint8)\n",
        "centers = np.random.randint(0, N, size=(NSQUARES, 2))\n",
        "radii = np.random.randint(0, N/12, size=NSQUARES)\n",
        "colors = np.random.randint(100, 255, size=NSQUARES)\n",
        "# Generate squares\n",
        "for i in range(NSQUARES):\n",
        "  xindices = range(centers[i][0] - radii[i], centers[i][0] + radii[i])\n",
        "  xindices = np.clip(xindices,0, N - 1)\n",
        "  yindices = range(centers[i][1] - radii[i], centers[i][1] + radii[i])\n",
        "  yindices = np.clip(yindices,0, N - 1)\n",
        "  if len(xindices) == 0 or len(yindices) == 0:\n",
        "     continue\n",
        "coordinates = np.meshgrid(xindices, yindices)\n",
        "img[coordinates] = colors[i]\n",
        "# Load into memory map\n",
        "img.tofile('random_squares.raw')\n",
        "img_memmap = np.memmap('random_squares.raw', shape=img.shape)\n",
        "# Display image\n",
        "plt.imshow(img_memmap)\n",
        "plt.axis('off')\n",
        "plt.show()"
      ],
      "metadata": {
        "colab": {
          "base_uri": "https://localhost:8080/",
          "height": 406
        },
        "id": "jubLCx1oFFx-",
        "outputId": "ce73ffb2-a694-4ed1-a1ca-1f4deaa08525"
      },
      "execution_count": null,
      "outputs": [
        {
          "output_type": "display_data",
          "data": {
            "text/plain": [
              "<Figure size 640x480 with 1 Axes>"
            ],
            "image/png": "[encoded data removed]"
          },
          "metadata": {}
        }
      ]
    },
    {
      "cell_type": "code",
      "source": [
        "from numpy.lib.function_base import meshgrid\n",
        "a=np.random.randint(0, 20, size=10)\n",
        "print(a)\n",
        "b=np.clip(a,1,4)\n",
        "print(b)\n",
        "np.meshgrid(a,b)"
      ],
      "metadata": {
        "id": "QTZkE5a2HtWV"
      },
      "execution_count": null,
      "outputs": []
    },
    {
      "cell_type": "code",
      "source": [
        "#at() - This method allows fancy indexing in-place.\n",
        "np.random.seed(44)\n",
        "a = np.random.randint(1,10,10)\n",
        "print(a)\n",
        "np.sign.at(a,[1,6])\n",
        "print(a)"
      ],
      "metadata": {
        "colab": {
          "base_uri": "https://localhost:8080/"
        },
        "id": "P4HW7_hLn9DX",
        "outputId": "45f702d8-2f60-473e-c4b8-1ad2014a3d1e"
      },
      "execution_count": 93,
      "outputs": [
        {
          "output_type": "stream",
          "name": "stdout",
          "text": [
            "[5 4 2 4 1 5 4 9 8 8]\n",
            "[5 1 2 4 1 5 1 9 8 8]\n"
          ]
        }
      ]
    },
    {
      "cell_type": "code",
      "source": [
        "#Partial sorting via selection for fast median with the partition() function\n",
        "np.random.seed(20)\n",
        "a = np.random.randint(0, 7, 9)\n",
        "print(a)\n",
        "print(np.partition(a,4))"
      ],
      "metadata": {
        "colab": {
          "base_uri": "https://localhost:8080/"
        },
        "id": "0y4iZw1OpnfF",
        "outputId": "4ff33d60-da83-4e6a-a4af-9349abe7d8df"
      },
      "execution_count": 97,
      "outputs": [
        {
          "output_type": "stream",
          "name": "stdout",
          "text": [
            "[3 2 4 2 1 4 3 6 2]\n",
            "[2 1 2 2 3 3 4 6 4]\n"
          ]
        }
      ]
    },
    {
      "cell_type": "code",
      "source": [
        "#create 3X3 matrix with element 7\n",
        "print(np.full((3, 3), 7))\n",
        "#The full_like() function checks the metadata of an array and reuses it for the new array.\n",
        "a = np.linspace(0, 1, 5)\n",
        "print(a)\n",
        "\n",
        "print(np.full_like(a, 3,dtype=int))\n"
      ],
      "metadata": {
        "colab": {
          "base_uri": "https://localhost:8080/"
        },
        "id": "_zMY9EgxrN_9",
        "outputId": "0669c8ff-db79-465c-a75a-50d6dc7e52bf"
      },
      "execution_count": 105,
      "outputs": [
        {
          "output_type": "stream",
          "name": "stdout",
          "text": [
            "[[7 7 7]\n",
            " [7 7 7]\n",
            " [7 7 7]]\n",
            "[0.   0.25 0.5  0.75 1.  ]\n",
            "[3 3 3 3 3]\n"
          ]
        }
      ]
    },
    {
      "cell_type": "code",
      "source": [
        "#Random sampling with numpy choice()\n",
        "N = 100\n",
        "np.random.seed(28)\n",
        "#Generate a data sample following the binomial distribution that simulates lipping a fair coin five times\n",
        "data = np.random.binomial(5, .5, size=N)\n",
        "#Generate 30 samples and compute their means (more samples will give abetter result):\n",
        "bootstrapped = np.random.choice(data, size=(N,30))\n",
        "means = bootstrapped.mean(axis=0)\n",
        "print(means)\n",
        "#Visualize the arithmetic means distribution with a matplotlib box plot\n",
        "plt.title('Bootstrapping demo')\n",
        "plt.grid()\n",
        "plt.boxplot(means)\n",
        "plt.plot(3* [data.mean()], lw=3, label='Original mean')\n",
        "plt.legend(loc='best')\n",
        "plt.show()"
      ],
      "metadata": {
        "id": "etUpphCZxdyi"
      },
      "execution_count": null,
      "outputs": []
    }
  ]
}